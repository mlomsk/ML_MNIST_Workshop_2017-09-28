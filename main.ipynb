{
 "cells": [
  {
   "cell_type": "code",
   "execution_count": 1,
   "metadata": {
    "scrolled": true,
    "slideshow": {
     "slide_type": "skip"
    }
   },
   "outputs": [
    {
     "data": {
      "text/html": [
       "\n",
       "<style>\n",
       "\n",
       "div.cell { /* Tunes the space between cells */\n",
       "margin-top:1em;\n",
       "margin-bottom:1em;\n",
       "}\n",
       "\n",
       "div.text_cell_render h1 { /* Main titles bigger, centered */\n",
       "font-size: 1.8em;\n",
       "line-height:1.0em;\n",
       "text-align:center;\n",
       "}\n",
       "\n",
       "div.text_cell_render h2 { /*  Parts names nearer from text */\n",
       "margin-bottom: -0.4em;\n",
       "}\n",
       "\n",
       "\n",
       "div.text_cell_render { /* Customize text cells */\n",
       "font-family: 'Times New Roman';\n",
       "font-size:1.4em;\n",
       "line-height:1.3em;\n",
       "padding-left:2em;\n",
       "padding-right:2em;\n",
       "}\n",
       "</style>\n"
      ],
      "text/plain": [
       "<IPython.core.display.HTML object>"
      ]
     },
     "execution_count": 1,
     "metadata": {},
     "output_type": "execute_result"
    }
   ],
   "source": [
    "from IPython.core.display import HTML\n",
    "HTML(\"\"\"\n",
    "<style>\n",
    "\n",
    "div.cell { /* Tunes the space between cells */\n",
    "margin-top:1em;\n",
    "margin-bottom:1em;\n",
    "}\n",
    "\n",
    "div.text_cell_render h1 { /* Main titles bigger, centered */\n",
    "font-size: 1.8em;\n",
    "line-height:1.0em;\n",
    "text-align:center;\n",
    "}\n",
    "\n",
    "div.text_cell_render h2 { /*  Parts names nearer from text */\n",
    "margin-bottom: -0.4em;\n",
    "}\n",
    "\n",
    "\n",
    "div.text_cell_render { /* Customize text cells */\n",
    "font-family: 'Times New Roman';\n",
    "font-size:1.4em;\n",
    "line-height:1.3em;\n",
    "padding-left:2em;\n",
    "padding-right:2em;\n",
    "}\n",
    "</style>\n",
    "\"\"\")"
   ]
  },
  {
   "cell_type": "markdown",
   "metadata": {
    "slideshow": {
     "slide_type": "slide"
    }
   },
   "source": [
    "# Классификация рукописных цифр с помощью TensorFlow"
   ]
  },
  {
   "cell_type": "markdown",
   "metadata": {
    "slideshow": {
     "slide_type": "slide"
    }
   },
   "source": [
    "![](images/mnist.jpeg)\n",
    "\n",
    "Классическая задача распознавания рукописных цифр на основе набора данных [MNIST](http://yann.lecun.com/exdb/mnist/)"
   ]
  },
  {
   "cell_type": "markdown",
   "metadata": {
    "slideshow": {
     "slide_type": "slide"
    }
   },
   "source": [
    "## Постановка задачи\n",
    "\n",
    "- 60_000 изображений с цифрами\n",
    "- Отцентрированы\n",
    "- Черно-белые\n",
    "- Размер 28x28 пикселя"
   ]
  },
  {
   "cell_type": "markdown",
   "metadata": {
    "slideshow": {
     "slide_type": "slide"
    }
   },
   "source": [
    "# Простейшая однослойная нейросеть"
   ]
  },
  {
   "cell_type": "markdown",
   "metadata": {
    "slideshow": {
     "slide_type": "fragment"
    }
   },
   "source": [
    "![](images/one_layer.png)"
   ]
  },
  {
   "cell_type": "markdown",
   "metadata": {
    "slideshow": {
     "slide_type": "notes"
    }
   },
   "source": [
    "Изображение цифры, размером 28x28 уплощается в вектор размера 784 пикселей, который подается на вход однослойной нейросети. Каждый нейрон по отдельности проивзодит взвешенную сумму всех входных сигналов, добавляет некоторый bias-порог и пропускает результат через некоторую функцию активации."
   ]
  },
  {
   "cell_type": "markdown",
   "metadata": {
    "slideshow": {
     "slide_type": "slide"
    }
   },
   "source": [
    "![](images/perceptron_schematic.png)"
   ]
  },
  {
   "cell_type": "markdown",
   "metadata": {
    "slideshow": {
     "slide_type": "slide"
    }
   },
   "source": [
    "### Функция перцептрона\n",
    "\n",
    "$$Y = g(X.W + b) $$\n",
    "\n",
    "$$sigmoid(z_n) = \\frac{1}{1 + e^{z_n}} $$\n",
    "\n",
    "$$softmax(z_n) = \\frac{e^{z_n}}{||{e^z}||} $$"
   ]
  },
  {
   "cell_type": "markdown",
   "metadata": {
    "slideshow": {
     "slide_type": "slide"
    }
   },
   "source": [
    "![](images/activation_functions.png)"
   ]
  },
  {
   "cell_type": "markdown",
   "metadata": {
    "slideshow": {
     "slide_type": "notes"
    }
   },
   "source": [
    "Так как функции активации по определению возвращают числа от 0 до 1, то мы получаем, что фактически наш перцептрон возвращает вероятности принадлежности к классу."
   ]
  },
  {
   "cell_type": "markdown",
   "metadata": {
    "slideshow": {
     "slide_type": "slide"
    }
   },
   "source": [
    "![](images/eval_single_layer.png)"
   ]
  },
  {
   "cell_type": "markdown",
   "metadata": {
    "slideshow": {
     "slide_type": "slide"
    }
   },
   "source": [
    "![](images/softmax-regression-vectorequation.png)"
   ]
  },
  {
   "cell_type": "markdown",
   "metadata": {
    "slideshow": {
     "slide_type": "slide"
    }
   },
   "source": [
    "### Тренировка сети\n",
    "\n",
    "$$H_{y'}(y) = - \\sum{y'_i log(y_i)}$$\n",
    "\n",
    "y - оригинальный  вектор\n",
    "\n",
    "y' - предсказанный  вектор"
   ]
  },
  {
   "cell_type": "markdown",
   "metadata": {
    "slideshow": {
     "slide_type": "slide"
    }
   },
   "source": [
    "![](images/cross_entropy.png)"
   ]
  },
  {
   "cell_type": "markdown",
   "metadata": {
    "slideshow": {
     "slide_type": "slide"
    }
   },
   "source": [
    "## Практика 0\n",
    "\n",
    "- импортировать TF\n",
    "- переменные, константы, подстановки в TF\n",
    "- запуск вычислений"
   ]
  },
  {
   "cell_type": "code",
   "execution_count": 2,
   "metadata": {
    "collapsed": true,
    "scrolled": true,
    "slideshow": {
     "slide_type": "slide"
    }
   },
   "outputs": [],
   "source": [
    "import tensorflow as tf\n",
    "tf.set_random_seed(0)"
   ]
  },
  {
   "cell_type": "markdown",
   "metadata": {
    "slideshow": {
     "slide_type": "slide"
    }
   },
   "source": [
    "Создание констант"
   ]
  },
  {
   "cell_type": "code",
   "execution_count": 3,
   "metadata": {
    "scrolled": true,
    "slideshow": {
     "slide_type": "fragment"
    }
   },
   "outputs": [
    {
     "name": "stdout",
     "output_type": "stream",
     "text": [
      "Tensor(\"Const:0\", shape=(), dtype=float32) Tensor(\"Const_1:0\", shape=(), dtype=float32)\n"
     ]
    }
   ],
   "source": [
    "node1 = tf.constant(3.0)\n",
    "node2 = tf.constant(4.0)\n",
    "print(node1, node2)"
   ]
  },
  {
   "cell_type": "markdown",
   "metadata": {
    "slideshow": {
     "slide_type": "slide"
    }
   },
   "source": [
    "Запуск вычислений"
   ]
  },
  {
   "cell_type": "code",
   "execution_count": 4,
   "metadata": {
    "scrolled": true,
    "slideshow": {
     "slide_type": "fragment"
    }
   },
   "outputs": [
    {
     "name": "stdout",
     "output_type": "stream",
     "text": [
      "[3.0, 4.0]\n"
     ]
    }
   ],
   "source": [
    "sess = tf.InteractiveSession()\n",
    "print(sess.run([node1, node2]))"
   ]
  },
  {
   "cell_type": "code",
   "execution_count": 5,
   "metadata": {
    "scrolled": true,
    "slideshow": {
     "slide_type": "fragment"
    }
   },
   "outputs": [
    {
     "name": "stdout",
     "output_type": "stream",
     "text": [
      "node3: Tensor(\"Add:0\", shape=(), dtype=float32)\n",
      "sess.run(node3): 7.0\n"
     ]
    }
   ],
   "source": [
    "node3 = tf.add(node1, node2)\n",
    "print(\"node3:\", node3)\n",
    "print(\"sess.run(node3):\", sess.run(node3))"
   ]
  },
  {
   "cell_type": "markdown",
   "metadata": {
    "slideshow": {
     "slide_type": "slide"
    }
   },
   "source": [
    "Создание подстановок"
   ]
  },
  {
   "cell_type": "code",
   "execution_count": 6,
   "metadata": {
    "collapsed": true,
    "scrolled": true,
    "slideshow": {
     "slide_type": "fragment"
    }
   },
   "outputs": [],
   "source": [
    "a = tf.placeholder(tf.float32)\n",
    "b = tf.placeholder(tf.float32)\n",
    "adder_node = a + b # переопределенный оператор для tf.add"
   ]
  },
  {
   "cell_type": "code",
   "execution_count": 7,
   "metadata": {
    "scrolled": true,
    "slideshow": {
     "slide_type": "fragment"
    }
   },
   "outputs": [
    {
     "name": "stdout",
     "output_type": "stream",
     "text": [
      "7.5\n",
      "[ 3.  7.]\n"
     ]
    }
   ],
   "source": [
    "print(sess.run(adder_node, {a: 3, b: 4.5}))\n",
    "print(sess.run(adder_node, {a: [1, 3], b: [2, 4]}))"
   ]
  },
  {
   "cell_type": "markdown",
   "metadata": {
    "slideshow": {
     "slide_type": "slide"
    }
   },
   "source": [
    "Создание переменных"
   ]
  },
  {
   "cell_type": "code",
   "execution_count": 8,
   "metadata": {
    "scrolled": true,
    "slideshow": {
     "slide_type": "fragment"
    }
   },
   "outputs": [
    {
     "name": "stdout",
     "output_type": "stream",
     "text": [
      "Tensor(\"add_1:0\", dtype=float32)\n"
     ]
    }
   ],
   "source": [
    "W = tf.Variable([.3], dtype=tf.float32)\n",
    "b = tf.Variable([-.3], dtype=tf.float32)\n",
    "x = tf.placeholder(tf.float32)\n",
    "linear_model = W * x + b\n",
    "print(linear_model)"
   ]
  },
  {
   "cell_type": "code",
   "execution_count": 9,
   "metadata": {
    "scrolled": true,
    "slideshow": {
     "slide_type": "fragment"
    }
   },
   "outputs": [
    {
     "name": "stdout",
     "output_type": "stream",
     "text": [
      "[ 0.          0.30000001  0.60000002  0.90000004]\n"
     ]
    }
   ],
   "source": [
    "init = tf.global_variables_initializer()\n",
    "sess.run(init)\n",
    "print(sess.run(linear_model, {x: [1, 2, 3, 4]}))"
   ]
  },
  {
   "cell_type": "code",
   "execution_count": 10,
   "metadata": {
    "scrolled": true,
    "slideshow": {
     "slide_type": "slide"
    }
   },
   "outputs": [
    {
     "name": "stdout",
     "output_type": "stream",
     "text": [
      "23.66\n"
     ]
    }
   ],
   "source": [
    "y = tf.placeholder(tf.float32)\n",
    "squared_deltas = tf.square(linear_model - y)\n",
    "loss = tf.reduce_sum(squared_deltas) # функция потерь - или ошибки\n",
    "print(sess.run(loss, {x: [1, 2, 3, 4], y: [0, -1, -2, -3]}))"
   ]
  },
  {
   "cell_type": "code",
   "execution_count": 11,
   "metadata": {
    "scrolled": true,
    "slideshow": {
     "slide_type": "fragment"
    }
   },
   "outputs": [
    {
     "name": "stdout",
     "output_type": "stream",
     "text": [
      "0.0\n"
     ]
    }
   ],
   "source": [
    "# Поправим вручную потери линейного алгоритма.\n",
    "fixW = tf.assign(W, [-1.])\n",
    "fixb = tf.assign(b, [1.])\n",
    "sess.run([fixW, fixb])\n",
    "print(sess.run(loss, {x: [1, 2, 3, 4], y: [0, -1, -2, -3]}))"
   ]
  },
  {
   "cell_type": "markdown",
   "metadata": {
    "slideshow": {
     "slide_type": "slide"
    }
   },
   "source": [
    "## Практика 1\n",
    "\n",
    "- импортировать TF\n",
    "- загрузить dataset\n",
    "- описать структуру сети\n",
    "- запустить обучение"
   ]
  },
  {
   "cell_type": "markdown",
   "metadata": {
    "slideshow": {
     "slide_type": "slide"
    }
   },
   "source": [
    "### Формулы для реализации\n",
    "\n",
    "$$Y = softmax(X.W + b) $$\n",
    "\n",
    "$$softmax(z_n) = \\frac{e^{z_n}}{||{e^z}||} $$\n",
    "\n",
    "$$H_{y'}(y) = - \\sum{y'_i log(y_i)}$$"
   ]
  },
  {
   "cell_type": "code",
   "execution_count": 12,
   "metadata": {
    "collapsed": true,
    "scrolled": true,
    "slideshow": {
     "slide_type": "skip"
    }
   },
   "outputs": [],
   "source": [
    "# reset jupyter kernell to avoid variables duplications\n",
    "%reset -sf\n",
    "\n",
    "import tensorflow as tf\n",
    "tf.set_random_seed(0)\n",
    "tf.reset_default_graph()"
   ]
  },
  {
   "cell_type": "code",
   "execution_count": 13,
   "metadata": {
    "scrolled": true,
    "slideshow": {
     "slide_type": "slide"
    }
   },
   "outputs": [
    {
     "data": {
      "text/plain": [
       "<tf.Tensor 'biases_1:0' shape=() dtype=string>"
      ]
     },
     "execution_count": 13,
     "metadata": {},
     "output_type": "execute_result"
    }
   ],
   "source": [
    "with tf.name_scope('X'):\n",
    "    X = tf.placeholder(tf.float32, [None, 784], name='X')\n",
    "    x_image = tf.reshape(X, [-1, 28, 28, 1])\n",
    "with tf.name_scope('weights'):\n",
    "    W = tf.Variable(tf.zeros([784, 10]), name='weights')\n",
    "with tf.name_scope('biases'):\n",
    "    b = tf.Variable(tf.zeros([10]), name='biases')\n",
    "    \n",
    "tf.summary.image('input', x_image, 3)\n",
    "tf.summary.histogram(\"weights\", W)\n",
    "tf.summary.histogram(\"biases\", b)"
   ]
  },
  {
   "cell_type": "code",
   "execution_count": 14,
   "metadata": {
    "scrolled": true,
    "slideshow": {
     "slide_type": "slide"
    }
   },
   "outputs": [
    {
     "data": {
      "text/plain": [
       "<tf.Tensor 'cross_entropy:0' shape=() dtype=string>"
      ]
     },
     "execution_count": 14,
     "metadata": {},
     "output_type": "execute_result"
    }
   ],
   "source": [
    "with tf.name_scope('Wx_plus_b'):\n",
    "    # Модель Y = X.W + b\n",
    "    Y = tf.nn.softmax(tf.matmul(tf.reshape(X, [-1, 784]), W) + b, name='labels')\n",
    "\n",
    "# Подстановка для корректных значений входных данных\n",
    "Y_ = tf.placeholder(tf.float32, [None, 10], name='Y_')\n",
    "\n",
    "with tf.name_scope('total'):\n",
    "    # Функция потерь H = Sum(Y_ * log(Y))\n",
    "    cross_entropy = -tf.reduce_sum(Y_ * tf.log(Y), name='xentropy')\n",
    "\n",
    "with tf.name_scope('accuracy'):\n",
    "    with tf.name_scope('correct_prediction'):\n",
    "        # Доля верных ответов найденных в наборе\n",
    "        is_correct = tf.equal(tf.argmax(Y,1), tf.argmax(Y_,1))\n",
    "    with tf.name_scope('accuracy'):\n",
    "        accuracy = tf.reduce_mean(tf.cast(is_correct, tf.float32), name='xentropy_mean')\n",
    "\n",
    "tf.summary.scalar('accuracy', accuracy)\n",
    "tf.summary.scalar('cross_entropy', cross_entropy)"
   ]
  },
  {
   "cell_type": "code",
   "execution_count": 15,
   "metadata": {
    "collapsed": true,
    "scrolled": true,
    "slideshow": {
     "slide_type": "slide"
    }
   },
   "outputs": [],
   "source": [
    "with tf.name_scope('train'):\n",
    "    # Оптимизируем функцию потерь меотодом градиентного спуска\n",
    "    # 0.003 - это шаг градиента, гиперпараметр\n",
    "    optimizer = tf.train.GradientDescentOptimizer(0.003)\n",
    "    # Минимизируем потери\n",
    "    train_step = optimizer.minimize(cross_entropy)"
   ]
  },
  {
   "cell_type": "code",
   "execution_count": 16,
   "metadata": {
    "scrolled": true,
    "slideshow": {
     "slide_type": "slide"
    }
   },
   "outputs": [
    {
     "name": "stdout",
     "output_type": "stream",
     "text": [
      "Extracting MNIST_data/train-images-idx3-ubyte.gz\n",
      "Extracting MNIST_data/train-labels-idx1-ubyte.gz\n",
      "Extracting MNIST_data/t10k-images-idx3-ubyte.gz\n",
      "Extracting MNIST_data/t10k-labels-idx1-ubyte.gz\n"
     ]
    }
   ],
   "source": [
    "# Загружаем тренировочный датасет MNIST\n",
    "from tensorflow.examples.tutorials.mnist import input_data\n",
    "mnist = input_data.read_data_sets(\"MNIST_data/\", one_hot=True, reshape=True)"
   ]
  },
  {
   "cell_type": "code",
   "execution_count": 17,
   "metadata": {
    "collapsed": true,
    "scrolled": true,
    "slideshow": {
     "slide_type": "slide"
    }
   },
   "outputs": [],
   "source": [
    "def save_summary(sess, mnist, writer, merged, accuracy, i):\n",
    "    if i % 10 == 0:\n",
    "        test_data={X: mnist.test.images, Y_: mnist.test.labels}\n",
    "        summary, a = sess.run([merged, accuracy], feed_dict=test_data)\n",
    "        writer.add_summary(summary, i)\n",
    "        if i % 200 == 0:\n",
    "            print(\"Test: {}\".format(a))"
   ]
  },
  {
   "cell_type": "code",
   "execution_count": 18,
   "metadata": {
    "scrolled": true,
    "slideshow": {
     "slide_type": "slide"
    }
   },
   "outputs": [
    {
     "name": "stdout",
     "output_type": "stream",
     "text": [
      "Test: 0.4043999910354614\n",
      "Test: 0.8966000080108643\n",
      "Test: 0.9027000069618225\n",
      "Test: 0.9115999937057495\n",
      "Test: 0.9158999919891357\n"
     ]
    }
   ],
   "source": [
    "with tf.Session() as sess:\n",
    "    merged = tf.summary.merge_all() # Merge all the summaries and write them out to\n",
    "    writer = tf.summary.FileWriter(\"/tmp/tensorflow/one_layer\", sess.graph)\n",
    "    tf.global_variables_initializer().run()\n",
    "\n",
    "    for i in range(1000):\n",
    "        # загружаем набор изображений и меток классов\n",
    "        batch_X, batch_Y = mnist.train.next_batch(100)\n",
    "        train_data={X: batch_X, Y_: batch_Y}\n",
    "\n",
    "        # train\n",
    "        sess.run(train_step, feed_dict=train_data)\n",
    "        \n",
    "        save_summary(sess, mnist, writer, merged, accuracy, i)\n",
    "        \n",
    "    writer.close()"
   ]
  },
  {
   "cell_type": "code",
   "execution_count": 19,
   "metadata": {
    "scrolled": true,
    "slideshow": {
     "slide_type": "subslide"
    }
   },
   "outputs": [
    {
     "name": "stdout",
     "output_type": "stream",
     "text": [
      "\u001b[1m\u001b[36mone_layer\u001b[m\u001b[m     \u001b[1m\u001b[36mone_layer.log\u001b[m\u001b[m\r\n"
     ]
    }
   ],
   "source": [
    "!ls /tmp/tensorflow/"
   ]
  },
  {
   "cell_type": "code",
   "execution_count": 20,
   "metadata": {
    "collapsed": true,
    "scrolled": true,
    "slideshow": {
     "slide_type": "slide"
    }
   },
   "outputs": [],
   "source": [
    "def single_layer(mnist):\n",
    "    X = tf.placeholder(tf.float32, [None, 784], name='X')\n",
    "    W = tf.Variable(tf.zeros([784, 10]), name='weights')\n",
    "    b = tf.Variable(tf.zeros([10]), name='biases')\n",
    "\n",
    "    Y = tf.nn.softmax(tf.matmul(tf.reshape(X, [-1, 784]), W) + b, name='labels')\n",
    "    Y_ = tf.placeholder(tf.float32, [None, 10], name='Y_')\n",
    "\n",
    "    cross_entropy = -tf.reduce_sum(Y_ * tf.log(Y), name='xentropy')\n",
    "    is_correct = tf.equal(tf.argmax(Y,1), tf.argmax(Y_,1))\n",
    "    accuracy = tf.reduce_mean(tf.cast(is_correct, tf.float32), name='xentropy_mean')\n",
    "\n",
    "    optimizer = tf.train.GradientDescentOptimizer(0.003)\n",
    "    train_step = optimizer.minimize(cross_entropy)\n",
    "\n",
    "    with tf.Session() as sess:\n",
    "        tf.global_variables_initializer().run()\n",
    "        for i in range(1000):\n",
    "            batch_X, batch_Y = mnist.train.next_batch(100)\n",
    "            train_data={X: batch_X, Y_: batch_Y}\n",
    "\n",
    "            # train\n",
    "            sess.run(train_step, feed_dict=train_data)\n",
    "\n",
    "            if i % 100 == 0:\n",
    "                test_data={X: mnist.test.images, Y_: mnist.test.labels}\n",
    "                a, c = sess.run([accuracy, cross_entropy], feed_dict=test_data)\n",
    "                print(\"Test: {}, {}\".format(a, c))"
   ]
  },
  {
   "cell_type": "code",
   "execution_count": 21,
   "metadata": {
    "scrolled": true,
    "slideshow": {
     "slide_type": "subslide"
    }
   },
   "outputs": [
    {
     "name": "stdout",
     "output_type": "stream",
     "text": [
      "Test: 0.5440999865531921, 20443.087890625\n",
      "Test: 0.8896999955177307, 4244.2392578125\n",
      "Test: 0.8974999785423279, 3746.39013671875\n",
      "Test: 0.9070000052452087, 3413.471435546875\n",
      "Test: 0.9103000164031982, 3245.257080078125\n",
      "Test: 0.9106000065803528, 3193.984375\n",
      "Test: 0.9143000245094299, 3084.836669921875\n",
      "Test: 0.9118000268936157, 3124.13232421875\n",
      "Test: 0.9151999950408936, 3025.076416015625\n",
      "Test: 0.9143999814987183, 3015.42431640625\n"
     ]
    }
   ],
   "source": [
    "single_layer(mnist)"
   ]
  },
  {
   "cell_type": "markdown",
   "metadata": {},
   "source": [
    "# 0.91\n",
    "\n",
    "![](images/tiny_success.jpg)"
   ]
  },
  {
   "cell_type": "markdown",
   "metadata": {
    "slideshow": {
     "slide_type": "slide"
    }
   },
   "source": [
    "# Практика 2\n",
    "\n",
    "- Многослойная нейросеть\n",
    "- проблема переобучения\n",
    "- регуляризация"
   ]
  },
  {
   "cell_type": "markdown",
   "metadata": {
    "slideshow": {
     "slide_type": "slide"
    }
   },
   "source": [
    "# Многослойная сеть\n",
    "\n",
    "![](images/deep_neural_network.png)"
   ]
  },
  {
   "cell_type": "markdown",
   "metadata": {
    "slideshow": {
     "slide_type": "slide"
    }
   },
   "source": [
    "![](images/deep_mnist.png)"
   ]
  },
  {
   "cell_type": "markdown",
   "metadata": {
    "slideshow": {
     "slide_type": "subslide"
    }
   },
   "source": [
    "$$sigmoid(z_n) = \\frac{1}{1 + e^{z_n}} $$\n",
    "\n",
    "![](images/sigmoid.png)"
   ]
  },
  {
   "cell_type": "code",
   "execution_count": 22,
   "metadata": {
    "slideshow": {
     "slide_type": "slide"
    }
   },
   "outputs": [
    {
     "name": "stdout",
     "output_type": "stream",
     "text": [
      "Extracting MNIST_data/train-images-idx3-ubyte.gz\n",
      "Extracting MNIST_data/train-labels-idx1-ubyte.gz\n",
      "Extracting MNIST_data/t10k-images-idx3-ubyte.gz\n",
      "Extracting MNIST_data/t10k-labels-idx1-ubyte.gz\n"
     ]
    }
   ],
   "source": [
    "# reset jupyter kernell to avoid variables duplications\n",
    "%reset -sf\n",
    "\n",
    "import math\n",
    "import tensorflow as tf\n",
    "tf.set_random_seed(0)\n",
    "tf.reset_default_graph()\n",
    "\n",
    "# Загружаем тренировочный датасет MNIST\n",
    "from tensorflow.examples.tutorials.mnist import input_data\n",
    "mnist = input_data.read_data_sets(\"MNIST_data/\", one_hot=True, reshape=True)"
   ]
  },
  {
   "cell_type": "code",
   "execution_count": 23,
   "metadata": {
    "collapsed": true,
    "slideshow": {
     "slide_type": "slide"
    }
   },
   "outputs": [],
   "source": [
    "%matplotlib inline\n",
    "import matplotlib.pyplot as plt\n",
    "\n",
    "def draw(a, c):\n",
    "    plt.figure(1, (15, 5))\n",
    "    plt.subplot(121)\n",
    "    plt.title('accuracy')\n",
    "    plt.plot(a)\n",
    "\n",
    "    plt.subplot(122)\n",
    "    plt.title('cross_entropy')\n",
    "    plt.plot(c)\n",
    "    plt.show()"
   ]
  },
  {
   "cell_type": "code",
   "execution_count": 24,
   "metadata": {
    "collapsed": true,
    "slideshow": {
     "slide_type": "slide"
    }
   },
   "outputs": [],
   "source": [
    "# Объявим размеры слоёв\n",
    "\n",
    "layer_sizes = [28*28, 200, 100, 60, 30, 10]\n",
    "\n",
    "W1 = tf.Variable(tf.truncated_normal([layer_sizes[0], layer_sizes[1]], stddev=0.1))\n",
    "B1 = tf.Variable(tf.zeros(layer_sizes[1])) # 200\n",
    "\n",
    "W2 = tf.Variable(tf.truncated_normal([layer_sizes[1], layer_sizes[2]], stddev=0.1))\n",
    "B2 = tf.Variable(tf.zeros(layer_sizes[2])) # 100\n",
    "\n",
    "W3 = tf.Variable(tf.truncated_normal([layer_sizes[2], layer_sizes[3]], stddev=0.1))\n",
    "B3 = tf.Variable(tf.zeros(layer_sizes[3])) # 60\n",
    "\n",
    "W4 = tf.Variable(tf.truncated_normal([layer_sizes[3], layer_sizes[4]], stddev=0.1))\n",
    "B4 = tf.Variable(tf.zeros(layer_sizes[4])) # 30\n",
    "\n",
    "W5 = tf.Variable(tf.truncated_normal([layer_sizes[4], layer_sizes[5]], stddev=0.1))\n",
    "B5 = tf.Variable(tf.zeros(layer_sizes[5])) # 10"
   ]
  },
  {
   "cell_type": "code",
   "execution_count": 25,
   "metadata": {
    "collapsed": true,
    "slideshow": {
     "slide_type": "slide"
    }
   },
   "outputs": [],
   "source": [
    "X =  tf.placeholder(tf.float32, [None, 784])\n",
    "\n",
    "Y1 = tf.nn.sigmoid(tf.matmul(X, W1) + B1)\n",
    "Y2 = tf.nn.sigmoid(tf.matmul(Y1, W2) + B2)\n",
    "Y3 = tf.nn.sigmoid(tf.matmul(Y2, W3) + B3)\n",
    "Y4 = tf.nn.sigmoid(tf.matmul(Y3, W4) + B4)\n",
    "\n",
    "Ylogits = tf.matmul(Y4, W5) + B5\n",
    "Y = tf.nn.softmax(Ylogits)\n",
    "Y_ = tf.placeholder(tf.float32, [None, 10])"
   ]
  },
  {
   "cell_type": "code",
   "execution_count": 26,
   "metadata": {
    "collapsed": true,
    "slideshow": {
     "slide_type": "slide"
    }
   },
   "outputs": [],
   "source": [
    "def train_deep(X, Y, Ylogits, Y_, epoches=1000):\n",
    "    cross_entropy = tf.nn.softmax_cross_entropy_with_logits(logits=Ylogits, labels=Y_)\n",
    "    cross_entropy = tf.reduce_mean(cross_entropy)*100\n",
    "    \n",
    "    is_correct = tf.equal(tf.argmax(Y,1), tf.argmax(Y_,1))\n",
    "    accuracy = tf.reduce_mean(tf.cast(is_correct, tf.float32))\n",
    "\n",
    "    learning_rate=0.003\n",
    "    optimizer = tf.train.AdamOptimizer(learning_rate)\n",
    "    train_step = optimizer.minimize(cross_entropy)\n",
    "\n",
    "    accuracy_vis, cross_entropy_vis = [], []\n",
    "    \n",
    "    with tf.Session() as sess:\n",
    "        tf.global_variables_initializer().run()\n",
    "        for i in range(epoches):\n",
    "            batch_X, batch_Y = mnist.train.next_batch(100)\n",
    "            train_data={X: batch_X, Y_: batch_Y}\n",
    "\n",
    "            # train\n",
    "            sess.run(train_step, feed_dict=train_data)\n",
    "\n",
    "            if i % 10 == 0:\n",
    "                test_data={X: mnist.test.images, Y_: mnist.test.labels}\n",
    "                a, c = sess.run([accuracy, cross_entropy], feed_dict=test_data)\n",
    "                accuracy_vis.append(a)\n",
    "                cross_entropy_vis.append(c)\n",
    "                if i % 100 == 0:\n",
    "                    print(\"Test: {}, {}\".format(a, c))\n",
    "    return (accuracy_vis, cross_entropy_vis)"
   ]
  },
  {
   "cell_type": "code",
   "execution_count": 27,
   "metadata": {
    "slideshow": {
     "slide_type": "slide"
    }
   },
   "outputs": [
    {
     "name": "stdout",
     "output_type": "stream",
     "text": [
      "Test: 0.08919999748468399, 232.40162658691406\n",
      "Test: 0.4142000079154968, 149.98367309570312\n",
      "Test: 0.5758000016212463, 107.17176055908203\n",
      "Test: 0.767300009727478, 78.7203369140625\n",
      "Test: 0.8797000050544739, 53.51210403442383\n",
      "Test: 0.9056000113487244, 39.718955993652344\n",
      "Test: 0.925599992275238, 31.1849365234375\n",
      "Test: 0.9391000270843506, 24.913511276245117\n",
      "Test: 0.9437999725341797, 22.77108383178711\n",
      "Test: 0.9538000226020813, 18.920372009277344\n"
     ]
    }
   ],
   "source": [
    "a, c = train_deep(X, Y, Ylogits, Y_)"
   ]
  },
  {
   "cell_type": "code",
   "execution_count": 28,
   "metadata": {
    "slideshow": {
     "slide_type": "slide"
    }
   },
   "outputs": [
    {
     "data": {
      "image/png": "[encoded data removed]",
      "text/plain": [
       "<matplotlib.figure.Figure at 0x115d43a90>"
      ]
     },
     "metadata": {},
     "output_type": "display_data"
    }
   ],
   "source": [
    "draw(a,c)"
   ]
  },
  {
   "cell_type": "markdown",
   "metadata": {
    "slideshow": {
     "slide_type": "slide"
    }
   },
   "source": [
    "# 0.94???\n",
    "\n",
    "![](images/fry.png)"
   ]
  },
  {
   "cell_type": "markdown",
   "metadata": {
    "slideshow": {
     "slide_type": "slide"
    }
   },
   "source": [
    "### sigmoid + softmax + 5 layers\n",
    "- Качество классификации: 0.94\n",
    "- Медленно сходится\n",
    "- Есть резкие перепады при обучении\n",
    "- Нужна другая функция активации"
   ]
  },
  {
   "cell_type": "markdown",
   "metadata": {
    "slideshow": {
     "slide_type": "slide"
    }
   },
   "source": [
    "# Relu = Rectified Linear Unit\n",
    "\n",
    "![](images/relu.png)\n",
    "\n",
    "```python\n",
    "tf.nn.relu(tf.matmul(X,W1)+B1)\n",
    "```"
   ]
  },
  {
   "cell_type": "code",
   "execution_count": 29,
   "metadata": {
    "collapsed": true,
    "slideshow": {
     "slide_type": "slide"
    }
   },
   "outputs": [],
   "source": [
    "X =  tf.placeholder(tf.float32, [None, 784])\n",
    "\n",
    "Y1 = tf.nn.relu(tf.matmul(X, W1) + B1)\n",
    "Y2 = tf.nn.relu(tf.matmul(Y1, W2) + B2)\n",
    "Y3 = tf.nn.relu(tf.matmul(Y2, W3) + B3)\n",
    "Y4 = tf.nn.relu(tf.matmul(Y3, W4) + B4)\n",
    "\n",
    "Ylogits = tf.matmul(Y4, W5) + B5\n",
    "Y = tf.nn.softmax(Ylogits)\n",
    "Y_ = tf.placeholder(tf.float32, [None, 10])"
   ]
  },
  {
   "cell_type": "code",
   "execution_count": 30,
   "metadata": {
    "slideshow": {
     "slide_type": "slide"
    }
   },
   "outputs": [
    {
     "name": "stdout",
     "output_type": "stream",
     "text": [
      "Test: 0.1647000014781952, 226.0742645263672\n",
      "Test: 0.9204999804496765, 26.77494239807129\n",
      "Test: 0.9391999840736389, 20.49483871459961\n",
      "Test: 0.953000009059906, 15.976889610290527\n",
      "Test: 0.9564999938011169, 13.962605476379395\n",
      "Test: 0.9606000185012817, 12.418688774108887\n",
      "Test: 0.9613999724388123, 12.344167709350586\n",
      "Test: 0.9634000062942505, 12.622851371765137\n",
      "Test: 0.960099995136261, 13.433085441589355\n",
      "Test: 0.9661999940872192, 11.935070991516113\n"
     ]
    }
   ],
   "source": [
    "a, c = train_deep(X, Y, Ylogits, Y_)"
   ]
  },
  {
   "cell_type": "code",
   "execution_count": 31,
   "metadata": {
    "slideshow": {
     "slide_type": "slide"
    }
   },
   "outputs": [
    {
     "data": {
      "image/png": "[encoded data removed]",
      "text/plain": [
       "<matplotlib.figure.Figure at 0x111cd6cf8>"
      ]
     },
     "metadata": {},
     "output_type": "display_data"
    }
   ],
   "source": [
    "draw(a,c)"
   ]
  },
  {
   "cell_type": "markdown",
   "metadata": {
    "slideshow": {
     "slide_type": "slide"
    }
   },
   "source": [
    "### relu + softmax + 5 layers\n",
    "\n",
    "- качество классификации 0.97\n",
    "- быстро сходится\n",
    "- относительно стабильно??"
   ]
  },
  {
   "cell_type": "code",
   "execution_count": 32,
   "metadata": {
    "slideshow": {
     "slide_type": "subslide"
    }
   },
   "outputs": [
    {
     "name": "stdout",
     "output_type": "stream",
     "text": [
      "Test: 0.14419999718666077, 228.2206573486328\n",
      "Test: 0.9193000197410583, 26.626399993896484\n",
      "Test: 0.921999990940094, 26.062955856323242\n",
      "Test: 0.9225000143051147, 24.187725067138672\n",
      "Test: 0.9524000287055969, 15.917776107788086\n",
      "Test: 0.9563999772071838, 13.650592803955078\n",
      "Test: 0.9650999903678894, 11.619589805603027\n",
      "Test: 0.9623000025749207, 12.328930854797363\n",
      "Test: 0.9704999923706055, 9.90969467163086\n",
      "Test: 0.968500018119812, 10.409608840942383\n",
      "Test: 0.9639000296592712, 11.868613243103027\n",
      "Test: 0.9728000164031982, 9.583634376525879\n",
      "Test: 0.9699000120162964, 10.106823921203613\n",
      "Test: 0.9704999923706055, 9.33514404296875\n",
      "Test: 0.9678999781608582, 10.709968566894531\n",
      "Test: 0.9690999984741211, 10.103565216064453\n",
      "Test: 0.9688000082969666, 10.650016784667969\n",
      "Test: 0.9746999740600586, 8.89111042022705\n",
      "Test: 0.9740999937057495, 9.634437561035156\n",
      "Test: 0.9733999967575073, 9.40545654296875\n",
      "Test: 0.9735999703407288, 9.46670150756836\n",
      "Test: 0.9736999869346619, 9.855304718017578\n",
      "Test: 0.9754999876022339, 8.992805480957031\n",
      "Test: 0.9771999716758728, 8.519488334655762\n",
      "Test: 0.9753999710083008, 8.675346374511719\n",
      "Test: 0.9731000065803528, 9.259878158569336\n",
      "Test: 0.9794999957084656, 7.672606945037842\n",
      "Test: 0.9761000275611877, 8.738158226013184\n",
      "Test: 0.9753999710083008, 8.693212509155273\n",
      "Test: 0.9758999943733215, 8.78188705444336\n",
      "Test: 0.977400004863739, 8.437352180480957\n",
      "Test: 0.9747999906539917, 9.55250358581543\n",
      "Test: 0.9753999710083008, 10.29079532623291\n",
      "Test: 0.9758999943733215, 9.100419998168945\n",
      "Test: 0.9629999995231628, 13.843968391418457\n",
      "Test: 0.9745000004768372, 8.774469375610352\n",
      "Test: 0.9771999716758728, 8.424749374389648\n",
      "Test: 0.9776999950408936, 8.575775146484375\n",
      "Test: 0.9783999919891357, 8.854340553283691\n",
      "Test: 0.9786999821662903, 8.306488037109375\n",
      "Test: 0.9772999882698059, 8.445571899414062\n",
      "Test: 0.9793999791145325, 7.498820781707764\n",
      "Test: 0.9757000207901001, 9.733086585998535\n",
      "Test: 0.9760000109672546, 9.674837112426758\n",
      "Test: 0.9753999710083008, 9.854654312133789\n",
      "Test: 0.9768999814987183, 8.75963306427002\n",
      "Test: 0.977400004863739, 9.908486366271973\n",
      "Test: 0.9761000275611877, 9.34334659576416\n",
      "Test: 0.9782999753952026, 9.207597732543945\n",
      "Test: 0.9750999808311462, 10.171501159667969\n"
     ]
    }
   ],
   "source": [
    "a, c = train_deep(X, Y, Ylogits, Y_, 5000)"
   ]
  },
  {
   "cell_type": "markdown",
   "metadata": {
    "slideshow": {
     "slide_type": "slide"
    }
   },
   "source": [
    "# Шумы в кривой точности"
   ]
  },
  {
   "cell_type": "code",
   "execution_count": 33,
   "metadata": {
    "slideshow": {
     "slide_type": "fragment"
    }
   },
   "outputs": [
    {
     "data": {
      "image/png": "[encoded data removed]",
      "text/plain": [
       "<matplotlib.figure.Figure at 0x111e59f98>"
      ]
     },
     "metadata": {},
     "output_type": "display_data"
    }
   ],
   "source": [
    "draw(a[50:], c[50:])"
   ]
  },
  {
   "cell_type": "markdown",
   "metadata": {
    "slideshow": {
     "slide_type": "slide"
    }
   },
   "source": [
    "# Learning rate decay\n",
    "\n",
    "- замедлять скорость обучения по ходу обучения\n",
    "\n",
    "```\n",
    "max_learning_rate = 0.003\n",
    "min_learning_rate = 0.0001\n",
    "decay_speed = 2000.0\n",
    "learning_rate = min_learning_rate + (max_learning_rate - min_learning_rate) * math.exp(-i/decay_speed)\n",
    "```"
   ]
  },
  {
   "cell_type": "code",
   "execution_count": 34,
   "metadata": {
    "collapsed": true,
    "slideshow": {
     "slide_type": "slide"
    }
   },
   "outputs": [],
   "source": [
    "def train_lr_decay(X, Y, Ylogits, Y_, epoches=1000):\n",
    "    cross_entropy = tf.nn.softmax_cross_entropy_with_logits(logits=Ylogits, labels=Y_)\n",
    "    cross_entropy = tf.reduce_mean(cross_entropy)*100\n",
    "    \n",
    "    is_correct = tf.equal(tf.argmax(Y,1), tf.argmax(Y_,1))\n",
    "    accuracy = tf.reduce_mean(tf.cast(is_correct, tf.float32))\n",
    "\n",
    "    max_learning_rate = 0.003\n",
    "    min_learning_rate = 0.0001\n",
    "    decay_speed = 2000.0\n",
    "    learning_rate = tf.placeholder(tf.float32)\n",
    "    \n",
    "    optimizer = tf.train.AdamOptimizer(learning_rate)\n",
    "    train_step = optimizer.minimize(cross_entropy)\n",
    "\n",
    "    accuracy_vis, cross_entropy_vis = [], []\n",
    "    \n",
    "    with tf.Session() as sess:\n",
    "        tf.global_variables_initializer().run()\n",
    "        for i in range(epoches):\n",
    "            batch_X, batch_Y = mnist.train.next_batch(100)\n",
    "            \n",
    "            lr = min_learning_rate + (max_learning_rate - min_learning_rate) * math.exp(-i/decay_speed)\n",
    "            train_data={X: batch_X, Y_: batch_Y, learning_rate: lr}\n",
    "\n",
    "            # train\n",
    "            sess.run(train_step, feed_dict=train_data)\n",
    "\n",
    "            if i % 10 == 0:\n",
    "                test_data={X: mnist.test.images, Y_: mnist.test.labels}\n",
    "                a, c = sess.run([accuracy, cross_entropy], feed_dict=test_data)\n",
    "                accuracy_vis.append(a)\n",
    "                cross_entropy_vis.append(c)\n",
    "                if i % 500 == 0:\n",
    "                    print(\"Test: {}, {}\".format(a, c))\n",
    "    return (accuracy_vis, cross_entropy_vis)"
   ]
  },
  {
   "cell_type": "code",
   "execution_count": 35,
   "metadata": {
    "slideshow": {
     "slide_type": "subslide"
    }
   },
   "outputs": [
    {
     "name": "stdout",
     "output_type": "stream",
     "text": [
      "Test: 0.1859000027179718, 227.35543823242188\n",
      "Test: 0.9544000029563904, 14.740668296813965\n",
      "Test: 0.9699000120162964, 9.963876724243164\n",
      "Test: 0.9735999703407288, 9.058289527893066\n",
      "Test: 0.9779999852180481, 7.636318206787109\n",
      "Test: 0.9793999791145325, 7.169418811798096\n",
      "Test: 0.9789000153541565, 7.904794216156006\n",
      "Test: 0.9783999919891357, 7.831852912902832\n",
      "Test: 0.9796000123023987, 8.334189414978027\n",
      "Test: 0.9797999858856201, 8.294150352478027\n",
      "Test: 0.9807000160217285, 8.431187629699707\n",
      "Test: 0.9810000061988831, 8.371230125427246\n",
      "Test: 0.9807999730110168, 8.59482479095459\n",
      "Test: 0.9807000160217285, 8.825003623962402\n",
      "Test: 0.98089998960495, 9.139716148376465\n",
      "Test: 0.9807000160217285, 9.22861099243164\n",
      "Test: 0.9807999730110168, 9.49561882019043\n",
      "Test: 0.9811000227928162, 9.663046836853027\n",
      "Test: 0.9805999994277954, 9.864192962646484\n",
      "Test: 0.9810000061988831, 10.201659202575684\n"
     ]
    }
   ],
   "source": [
    "a, c = train_lr_decay(X, Y, Ylogits, Y_, 10000)"
   ]
  },
  {
   "cell_type": "markdown",
   "metadata": {
    "slideshow": {
     "slide_type": "slide"
    }
   },
   "source": [
    "# Переобучение"
   ]
  },
  {
   "cell_type": "code",
   "execution_count": 36,
   "metadata": {
    "slideshow": {
     "slide_type": "fragment"
    }
   },
   "outputs": [
    {
     "data": {
      "image/png": "[encoded data removed]",
      "text/plain": [
       "<matplotlib.figure.Figure at 0x112f86fd0>"
      ]
     },
     "metadata": {},
     "output_type": "display_data"
    }
   ],
   "source": [
    "draw(a[50:], c[50:])"
   ]
  },
  {
   "cell_type": "markdown",
   "metadata": {
    "slideshow": {
     "slide_type": "slide"
    }
   },
   "source": [
    "# Drop Out\n",
    "\n",
    "![](images/dropout.png)"
   ]
  },
  {
   "cell_type": "markdown",
   "metadata": {
    "slideshow": {
     "slide_type": "slide"
    }
   },
   "source": [
    "```python\n",
    "pkeep = tf.placeholder(tf.float32)\n",
    "Y1d = tf.nn.dropout(Y1, pkeep)\n",
    "\n",
    "train_data={X: batch_X, Y_: batch_Y, learning_rate: lr, pkeep: 0.75}\n",
    "test_data={X: mnist.test.images, Y_: mnist.test.labels, pkeep: 1.0}\n",
    "```"
   ]
  },
  {
   "cell_type": "code",
   "execution_count": 37,
   "metadata": {
    "collapsed": true,
    "slideshow": {
     "slide_type": "slide"
    }
   },
   "outputs": [],
   "source": [
    "def train_lr_decay_dropout(X, Y, Ylogits, Y_, pkeep, epoches=1000):\n",
    "    cross_entropy = tf.nn.softmax_cross_entropy_with_logits(logits=Ylogits, labels=Y_)\n",
    "    cross_entropy = tf.reduce_mean(cross_entropy)*100\n",
    "    \n",
    "    is_correct = tf.equal(tf.argmax(Y,1), tf.argmax(Y_,1))\n",
    "    accuracy = tf.reduce_mean(tf.cast(is_correct, tf.float32))\n",
    "\n",
    "    max_learning_rate = 0.003\n",
    "    min_learning_rate = 0.0001\n",
    "    decay_speed = 2000.0\n",
    "    learning_rate = tf.placeholder(tf.float32)\n",
    "    \n",
    "    optimizer = tf.train.AdamOptimizer(learning_rate)\n",
    "    train_step = optimizer.minimize(cross_entropy)\n",
    "\n",
    "    accuracy_vis, cross_entropy_vis = [], []\n",
    "    \n",
    "    with tf.Session() as sess:\n",
    "        tf.global_variables_initializer().run()\n",
    "        for i in range(epoches):\n",
    "            batch_X, batch_Y = mnist.train.next_batch(100)\n",
    "            \n",
    "            lr = min_learning_rate + (max_learning_rate - min_learning_rate) * math.exp(-i/decay_speed)\n",
    "            train_data={X: batch_X, Y_: batch_Y, learning_rate: lr, pkeep: 0.75}\n",
    "\n",
    "            # train\n",
    "            sess.run(train_step, feed_dict=train_data)\n",
    "\n",
    "            if i % 10 == 0:\n",
    "                test_data={X: mnist.test.images, Y_: mnist.test.labels, pkeep: 1.0}\n",
    "                a, c = sess.run([accuracy, cross_entropy], feed_dict=test_data)\n",
    "                accuracy_vis.append(a)\n",
    "                cross_entropy_vis.append(c)\n",
    "                if i % 500 == 0:\n",
    "                    print(\"Test: {}, {}\".format(a, c))\n",
    "    return (accuracy_vis, cross_entropy_vis)"
   ]
  },
  {
   "cell_type": "code",
   "execution_count": 38,
   "metadata": {
    "collapsed": true,
    "slideshow": {
     "slide_type": "slide"
    }
   },
   "outputs": [],
   "source": [
    "pkeep = tf.placeholder(tf.float32)\n",
    "\n",
    "X =  tf.placeholder(tf.float32, [None, 784])\n",
    "\n",
    "Y1 = tf.nn.dropout(tf.nn.relu(tf.matmul(X, W1) + B1), pkeep)\n",
    "Y2 = tf.nn.dropout(tf.nn.relu(tf.matmul(Y1, W2) + B2), pkeep)\n",
    "Y3 = tf.nn.dropout(tf.nn.relu(tf.matmul(Y2, W3) + B3), pkeep)\n",
    "Y4 = tf.nn.dropout(tf.nn.relu(tf.matmul(Y3, W4) + B4), pkeep)\n",
    "\n",
    "Ylogits = tf.matmul(Y4, W5) + B5\n",
    "Y = tf.nn.softmax(Ylogits)\n",
    "Y_ = tf.placeholder(tf.float32, [None, 10])"
   ]
  },
  {
   "cell_type": "code",
   "execution_count": 39,
   "metadata": {
    "slideshow": {
     "slide_type": "subslide"
    }
   },
   "outputs": [
    {
     "name": "stdout",
     "output_type": "stream",
     "text": [
      "Test: 0.13210000097751617, 227.8106689453125\n",
      "Test: 0.9544000029563904, 16.029678344726562\n",
      "Test: 0.9645000100135803, 12.972384452819824\n",
      "Test: 0.9684000015258789, 11.261515617370605\n",
      "Test: 0.9739999771118164, 9.899155616760254\n",
      "Test: 0.9739999771118164, 9.44610595703125\n",
      "Test: 0.9740999937057495, 10.034586906433105\n",
      "Test: 0.9758999943733215, 9.311582565307617\n",
      "Test: 0.9785000085830688, 9.393570899963379\n",
      "Test: 0.9781000018119812, 9.309616088867188\n",
      "Test: 0.979200005531311, 8.980360984802246\n",
      "Test: 0.9786999821662903, 8.907164573669434\n",
      "Test: 0.9789000153541565, 8.919472694396973\n",
      "Test: 0.9796000123023987, 9.136421203613281\n",
      "Test: 0.9800999760627747, 8.896743774414062\n",
      "Test: 0.9789999723434448, 9.251812934875488\n",
      "Test: 0.980400025844574, 9.065969467163086\n",
      "Test: 0.9796000123023987, 9.546613693237305\n",
      "Test: 0.9800999760627747, 9.150278091430664\n",
      "Test: 0.9801999926567078, 9.352210998535156\n"
     ]
    }
   ],
   "source": [
    "a, c = train_lr_decay_dropout(X, Y, Ylogits, Y_, pkeep, 10000)"
   ]
  },
  {
   "cell_type": "code",
   "execution_count": 40,
   "metadata": {
    "slideshow": {
     "slide_type": "slide"
    }
   },
   "outputs": [
    {
     "data": {
      "image/png": "[encoded data removed]",
      "text/plain": [
       "<matplotlib.figure.Figure at 0x111ff1208>"
      ]
     },
     "metadata": {},
     "output_type": "display_data"
    }
   ],
   "source": [
    "draw(a[50:], c[50:])"
   ]
  },
  {
   "cell_type": "markdown",
   "metadata": {
    "slideshow": {
     "slide_type": "slide"
    }
   },
   "source": [
    "![](images/dropout_fan.png)\n",
    "\n",
    "*[copyright: alexpokusay / 123RF stock photos](https://fr.123rf.com/profile_alexpokusay)*"
   ]
  }
 ],
 "metadata": {
  "celltoolbar": "Slideshow",
  "kernelspec": {
   "display_name": "Python 3",
   "language": "python",
   "name": "python3"
  },
  "language_info": {
   "codemirror_mode": {
    "name": "ipython",
    "version": 3
   },
   "file_extension": ".py",
   "mimetype": "text/x-python",
   "name": "python",
   "nbconvert_exporter": "python",
   "pygments_lexer": "ipython3",
   "version": "3.5.2"
  },
  "livereveal": {
   "scroll": false,
   "theme": "serif"
  }
 },
 "nbformat": 4,
 "nbformat_minor": 2
}
